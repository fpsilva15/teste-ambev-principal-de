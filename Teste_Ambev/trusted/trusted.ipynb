{
 "cells": [
  {
   "cell_type": "code",
   "execution_count": 0,
   "metadata": {
    "application/vnd.databricks.v1+cell": {
     "cellMetadata": {
      "byteLimit": 2048000,
      "implicitDf": true,
      "rowLimit": 10000
     },
     "inputWidgets": {},
     "nuid": "9a0cfb05-a5b2-4605-8099-dc69c5f75d98",
     "showTitle": false,
     "tableResultSettingsMap": {},
     "title": ""
    }
   },
   "outputs": [],
   "source": [
    "use catalog lakehouse"
   ]
  },
  {
   "cell_type": "code",
   "execution_count": 0,
   "metadata": {
    "application/vnd.databricks.v1+cell": {
     "cellMetadata": {
      "byteLimit": 2048000,
      "rowLimit": 10000
     },
     "inputWidgets": {},
     "nuid": "c30ae942-b26e-4d8b-b175-894222410053",
     "showTitle": false,
     "tableResultSettingsMap": {},
     "title": ""
    }
   },
   "outputs": [],
   "source": [
    "CREATE OR REPLACE TABLE trusted.order_item AS\n",
    "SELECT\n",
    " COALESCE(TO_DATE(DATE, 'M/d/yyyy') , '1990-01-01') as date,\n",
    " sha1(\n",
    "    CONCAT(\n",
    "      COALESCE(TO_DATE(DATE, 'M/d/yyyy') , '1990-01-01'),\n",
    "      COALESCE(CE_BRAND_FLVR, -1),\n",
    "      COALESCE(Btlr_Org_LVL_C_Desc, 'NÃO INFORMADO'),\n",
    "      COALESCE(TRADE_CHNL_DESC, 'NÃO INFORMADO'),\n",
    "      COALESCE(TSR_PCKG_NM, 'NÃO INFORMADO')\n",
    "    )\n",
    "  ) AS order_item_id,\n",
    "  sha1(\n",
    "    CONCAT(\n",
    "      COALESCE(CE_BRAND_FLVR, -1),\n",
    "      COALESCE(BRAND_NM, 'NÃO INFORMADO'),\n",
    "      COALESCE(PKG_CAT, 'NÃO INFORMADO'),\n",
    "      COALESCE(Pkg_Cat_Desc, 'NÃO INFORMADO'),\n",
    "      COALESCE(TSR_PCKG_NM, 'NÃO INFORMADO'))\n",
    "  ) AS product_catalog_id,\n",
    "  sha1(COALESCE(Btlr_Org_LVL_C_Desc, 'NÃO INFORMADO')) as region_id,\n",
    "  sha1(COALESCE(TRADE_CHNL_DESC, 'NÃO INFORMADO')) as trade_channel_id,\n",
    "  DOLLAR_Volume as volume,\n",
    "  date_add(hour, -3, current_timestamp) insertdate\n",
    "FROM lakehouse.raw.ambev_beverage_sales"
   ]
  },
  {
   "cell_type": "code",
   "execution_count": 0,
   "metadata": {
    "application/vnd.databricks.v1+cell": {
     "cellMetadata": {
      "byteLimit": 2048000,
      "rowLimit": 10000
     },
     "inputWidgets": {},
     "nuid": "fbb01f7a-eb8a-49b1-b720-634d67c8d15e",
     "showTitle": false,
     "tableResultSettingsMap": {},
     "title": ""
    }
   },
   "outputs": [],
   "source": [
    "CREATE OR REPLACE TABLE trusted.product_catalog AS\n",
    "SELECT DISTINCT\n",
    " sha1(\n",
    "    CONCAT(\n",
    "      COALESCE(CE_BRAND_FLVR, -1),\n",
    "      COALESCE(BRAND_NM, 'NÃO INFORMADO'),\n",
    "      COALESCE(PKG_CAT, 'NÃO INFORMADO'),\n",
    "      COALESCE(Pkg_Cat_Desc, 'NÃO INFORMADO'),\n",
    "      COALESCE(TSR_PCKG_NM, 'NÃO INFORMADO'))\n",
    "  ) AS product_catalog_id,\n",
    "  CE_BRAND_FLVR AS ce_brand_flvr,\n",
    "  BRAND_NM AS brand_nm,\n",
    "  PKG_CAT AS pkg_cat,\n",
    "  Pkg_Cat_Desc AS pkg_cat_desc,\n",
    "  TSR_PCKG_NM AS tsr_pckg_nm,\n",
    "  date_add(hour, -3, current_timestamp) insertdate\n",
    "FROM lakehouse.raw.ambev_beverage_sales"
   ]
  },
  {
   "cell_type": "code",
   "execution_count": 0,
   "metadata": {
    "application/vnd.databricks.v1+cell": {
     "cellMetadata": {
      "byteLimit": 2048000,
      "rowLimit": 10000
     },
     "inputWidgets": {},
     "nuid": "8a217aef-fd8d-45f6-8490-943ee5427588",
     "showTitle": false,
     "tableResultSettingsMap": {},
     "title": ""
    }
   },
   "outputs": [],
   "source": [
    "CREATE OR REPLACE TABLE trusted.region AS\n",
    "SELECT DISTINCT\n",
    "  sha1(COALESCE(Btlr_Org_LVL_C_Desc, 'NÃO INFORMADO')) as region_id,\n",
    "  COALESCE(Btlr_Org_LVL_C_Desc, 'NÃO INFORMADO') as Btlr_Org_LVL_C_Desc,\n",
    "  date_add(hour, -3, current_timestamp) insertdate\n",
    "FROM lakehouse.raw.ambev_beverage_sales"
   ]
  },
  {
   "cell_type": "code",
   "execution_count": 0,
   "metadata": {
    "application/vnd.databricks.v1+cell": {
     "cellMetadata": {
      "byteLimit": 2048000,
      "rowLimit": 10000
     },
     "inputWidgets": {},
     "nuid": "90e6b5e1-aeb7-40f7-bfa4-867e01a3c610",
     "showTitle": false,
     "tableResultSettingsMap": {},
     "title": ""
    }
   },
   "outputs": [],
   "source": [
    "CREATE OR REPLACE TABLE trusted.trade_channel AS\n",
    "SELECT DISTINCT\n",
    "  sha1(COALESCE(TRADE_CHNL_DESC, 'NÃO INFORMADO')) as trade_channel_id,\n",
    "  COALESCE(TRADE_CHNL_DESC, 'NÃO INFORMADO') AS trade_chnl_desc,\n",
    "  COALESCE(TRADE_GROUP_DESC, 'NÃO INFORMADO') AS trade_group_desc,\n",
    "  COALESCE(TRADE_TYPE_DESC, 'NÃO INFORMADO') AS trade_type_desc,\n",
    "  date_add(hour, -3, current_timestamp) insertdate\n",
    "FROM lakehouse.raw.ambev_channel_group"
   ]
  }
 ],
 "metadata": {
  "application/vnd.databricks.v1+notebook": {
   "computePreferences": null,
   "dashboards": [],
   "environmentMetadata": {
    "base_environment": "",
    "environment_version": "4"
   },
   "inputWidgetPreferences": null,
   "language": "sql",
   "notebookMetadata": {
    "mostRecentlyExecutedCommandWithImplicitDF": {
     "commandId": -1,
     "dataframes": [
      "_sqldf"
     ]
    },
    "pythonIndentUnit": 4
   },
   "notebookName": "trusted",
   "widgets": {}
  },
  "language_info": {
   "name": "sql"
  }
 },
 "nbformat": 4,
 "nbformat_minor": 0
}
