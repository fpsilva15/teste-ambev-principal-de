{
 "cells": [
  {
   "cell_type": "code",
   "execution_count": 0,
   "metadata": {
    "application/vnd.databricks.v1+cell": {
     "cellMetadata": {
      "byteLimit": 2048000,
      "rowLimit": 10000
     },
     "inputWidgets": {},
     "nuid": "1ec82ea3-cc3d-4218-a4dc-ec979b9f31c3",
     "showTitle": false,
     "tableResultSettingsMap": {},
     "title": ""
    }
   },
   "outputs": [],
   "source": [
    "use catalog lakehouse"
   ]
  },
  {
   "cell_type": "code",
   "execution_count": 0,
   "metadata": {
    "application/vnd.databricks.v1+cell": {
     "cellMetadata": {
      "byteLimit": 2048000,
      "rowLimit": 10000
     },
     "inputWidgets": {},
     "nuid": "56129e03-bc3a-4527-b2c5-3c1b80f260b7",
     "showTitle": false,
     "tableResultSettingsMap": {},
     "title": ""
    }
   },
   "outputs": [],
   "source": [
    "MERGE INTO lakehouse.refined.dim_trade_channel AS target\n",
    "USING lakehouse.trusted.trade_channel AS source\n",
    "ON target.trade_channel_id = source.trade_channel_id\n",
    "WHEN MATCHED THEN\n",
    "  UPDATE SET \n",
    "    target.trade_chnl_desc = source.trade_chnl_desc,\n",
    "    target.trade_group_desc = source.trade_group_desc,\n",
    "    target.trade_type_desc = source.trade_type_desc,\n",
    "    target.start_date = cast('1990-01-01' as timestamp),\n",
    "    target.end_date = cast('9999-12-31' as timestamp),\n",
    "    target.current = current,\n",
    "    target.insertdate = source.insertdate\n",
    "WHEN NOT MATCHED THEN \n",
    "  INSERT (trade_channel_id, trade_chnl_desc, trade_group_desc, trade_type_desc, start_date, end_date, current, insertdate)\n",
    "  VALUES (source.trade_channel_id, source.trade_chnl_desc, source.trade_group_desc, source.trade_type_desc, cast('1990-01-01' as timestamp), cast('9999-12-31' as timestamp), True, source.insertdate)"
   ]
  },
  {
   "cell_type": "code",
   "execution_count": 0,
   "metadata": {
    "application/vnd.databricks.v1+cell": {
     "cellMetadata": {
      "byteLimit": 2048000,
      "rowLimit": 10000
     },
     "inputWidgets": {},
     "nuid": "951a25a4-5ffe-4457-beea-b6da0604df31",
     "showTitle": false,
     "tableResultSettingsMap": {},
     "title": ""
    }
   },
   "outputs": [],
   "source": [
    "MERGE WITH SCHEMA EVOLUTION INTO lakehouse.refined.dim_region AS target\n",
    "USING lakehouse.trusted.region AS source\n",
    "ON target.region_id = source.region_id\n",
    "WHEN MATCHED THEN\n",
    "  UPDATE SET \n",
    "    target.Btlr_Org_LVL_C_Desc = source.Btlr_Org_LVL_C_Desc,\n",
    "    target.start_date = cast('1990-01-01' as timestamp),\n",
    "    target.end_date = cast('9999-12-31' as timestamp),\n",
    "    target.current = current,\n",
    "    target.insertdate = source.insertdate\n",
    "WHEN NOT MATCHED THEN \n",
    "    INSERT (region_id, Btlr_Org_LVL_C_Desc, start_date, end_date, current, insertdate)\n",
    "  VALUES (source.region_id, source.Btlr_Org_LVL_C_Desc, cast('1990-01-01' as timestamp), cast('9999-12-31' as timestamp), True, source.insertdate)"
   ]
  },
  {
   "cell_type": "code",
   "execution_count": 0,
   "metadata": {
    "application/vnd.databricks.v1+cell": {
     "cellMetadata": {
      "byteLimit": 2048000,
      "rowLimit": 10000
     },
     "inputWidgets": {},
     "nuid": "a2bdd2ca-28f3-4c23-92b8-795bf6dc2bc7",
     "showTitle": false,
     "tableResultSettingsMap": {},
     "title": ""
    }
   },
   "outputs": [],
   "source": [
    "MERGE WITH SCHEMA EVOLUTION INTO lakehouse.refined.dim_product_catalog AS target\n",
    "USING lakehouse.trusted.product_catalog AS source\n",
    "ON target.product_catalog_id = source.product_catalog_id\n",
    "WHEN MATCHED THEN\n",
    "  UPDATE SET \n",
    "    target.ce_brand_flvr = source.ce_brand_flvr,\n",
    "    target.brand_nm = source.brand_nm,\n",
    "    target.pkg_cat = source.pkg_cat,\n",
    "    target.pkg_cat_desc = source.pkg_cat_desc,\n",
    "    target.tsr_pckg_nm = source.tsr_pckg_nm,\n",
    "    target.start_date = cast('1990-01-01' as timestamp),\n",
    "    target.end_date = cast('9999-12-31' as timestamp),\n",
    "    target.current = current,\n",
    "    target.insertdate = source.insertdate\n",
    "WHEN NOT MATCHED THEN \n",
    "    INSERT (source.product_catalog_id, ce_brand_flvr, brand_nm, pkg_cat, pkg_cat_desc, tsr_pckg_nm, start_date, end_date, current, insertdate)\n",
    "  VALUES (source.product_catalog_id, source.ce_brand_flvr, source.brand_nm,  source.pkg_cat,  source.pkg_cat_desc,  source.tsr_pckg_nm, cast('1990-01-01' as timestamp), cast('9999-12-31' as timestamp), True, source.insertdate)"
   ]
  },
  {
   "cell_type": "code",
   "execution_count": 0,
   "metadata": {
    "application/vnd.databricks.v1+cell": {
     "cellMetadata": {
      "byteLimit": 2048000,
      "rowLimit": 10000
     },
     "inputWidgets": {},
     "nuid": "de79424f-e08f-4350-bc65-9c160ea8795b",
     "showTitle": false,
     "tableResultSettingsMap": {},
     "title": ""
    }
   },
   "outputs": [],
   "source": [
    "MERGE INTO lakehouse.refined.fact_order_item AS target\n",
    "USING \n",
    "(\n",
    "  SELECT \n",
    "    order_item.order_item_id,\n",
    "    dim_calendar.skcalendar,\n",
    "    trade_channel.sktrade_channel,\n",
    "    product_catalog.skproduct_catalog,\n",
    "    regions.skregion,\n",
    "    order_item.volume,\n",
    "    order_item.insertdate\n",
    "  FROM trusted.order_item order_item\n",
    "  INNER JOIN refined.dim_calendar using (date)\n",
    "  INNER JOIN refined.dim_trade_channel trade_channel using (trade_channel_id)\n",
    "  INNER JOIN refined.dim_product_catalog product_catalog using (product_catalog_id)\n",
    "  INNER JOIN refined.dim_region regions using (region_id)\n",
    ") AS source\n",
    "ON target.order_item_id = source.order_item_id\n",
    "WHEN MATCHED THEN\n",
    "  UPDATE SET \n",
    "    target.order_item_id = source.order_item_id,\n",
    "    target.skcalendar = source.skcalendar,\n",
    "    target.skproduct_catalog = source.skproduct_catalog,\n",
    "    target.skregion = source.skregion,\n",
    "    target.sktrade_channel = source.sktrade_channel,\n",
    "    target.volume = source.volume,\n",
    "    target.insertdate = source.insertdate\n",
    "WHEN NOT MATCHED THEN \n",
    "  INSERT (order_item_id, skcalendar, skproduct_catalog, skregion, sktrade_channel, volume, insertdate)\n",
    "  VALUES (source.order_item_id, source.skcalendar, source.skproduct_catalog, source.skregion, source.sktrade_channel, source.volume, source.insertdate)\n"
   ]
  }
 ],
 "metadata": {
  "application/vnd.databricks.v1+notebook": {
   "computePreferences": null,
   "dashboards": [],
   "environmentMetadata": {
    "base_environment": "",
    "environment_version": "4"
   },
   "inputWidgetPreferences": null,
   "language": "sql",
   "notebookMetadata": {
    "pythonIndentUnit": 4
   },
   "notebookName": "refined",
   "widgets": {}
  },
  "language_info": {
   "name": "sql"
  }
 },
 "nbformat": 4,
 "nbformat_minor": 0
}
