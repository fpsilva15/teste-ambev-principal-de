{
 "cells": [
  {
   "cell_type": "code",
   "execution_count": 0,
   "metadata": {
    "application/vnd.databricks.v1+cell": {
     "cellMetadata": {},
     "inputWidgets": {},
     "nuid": "5b11a5e1-1f3a-434a-9edb-0d1c0e75699d",
     "showTitle": false,
     "tableResultSettingsMap": {},
     "title": ""
    }
   },
   "outputs": [],
   "source": [
    "--4.1 What are the Top 3 Trade Groups (TRADE_GROUP_DESC) for each Region (Btlr_Org_LVL_C_Desc) in sales ($ Volume)?​"
   ]
  },
  {
   "cell_type": "code",
   "execution_count": 0,
   "metadata": {
    "application/vnd.databricks.v1+cell": {
     "cellMetadata": {
      "byteLimit": 2048000,
      "rowLimit": 10000
     },
     "inputWidgets": {},
     "nuid": "968ab54e-74ae-441b-abd2-f089163fca04",
     "showTitle": false,
     "tableResultSettingsMap": {},
     "title": ""
    }
   },
   "outputs": [],
   "source": [
    "use catalog lakehouse"
   ]
  },
  {
   "cell_type": "code",
   "execution_count": 0,
   "metadata": {
    "application/vnd.databricks.v1+cell": {
     "cellMetadata": {},
     "inputWidgets": {},
     "nuid": "2f2806f6-4dcb-4d76-860c-e2dd5efd8733",
     "showTitle": false,
     "tableResultSettingsMap": {},
     "title": ""
    }
   },
   "outputs": [],
   "source": [
    "--4.1 What are the Top 3 Trade Groups (TRADE_GROUP_DESC) for each Region (Btlr_Org_LVL_C_Desc) in sales ($ Volume)?​"
   ]
  },
  {
   "cell_type": "code",
   "execution_count": 0,
   "metadata": {
    "application/vnd.databricks.v1+cell": {
     "cellMetadata": {
      "byteLimit": 2048000,
      "rowLimit": 10000
     },
     "inputWidgets": {},
     "nuid": "b20f3471-223c-40f5-8008-6ac25bcb5e79",
     "showTitle": false,
     "tableResultSettingsMap": {},
     "title": ""
    }
   },
   "outputs": [],
   "source": [
    "SELECT *\n",
    "FROM (\n",
    "    SELECT \n",
    "        r.Btlr_Org_LVL_C_Desc AS Regiao,\n",
    "        tg.TRADE_GROUP_DESC   AS TradeGroup,\n",
    "        SUM(f.volume)   AS Total_Sales\n",
    "    FROM refined.fact_order_item f\n",
    "    JOIN refined.dim_region r   ON f.skregion = r.skregion\n",
    "    JOIN refined.dim_trade_channel tg ON f.sktrade_channel = tg.sktrade_channel\n",
    "    GROUP BY ALL\n",
    ")\n",
    "QUALIFY ROW_NUMBER() OVER (PARTITION BY Regiao ORDER BY Total_Sales DESC) <=3"
   ]
  },
  {
   "cell_type": "code",
   "execution_count": 0,
   "metadata": {
    "application/vnd.databricks.v1+cell": {
     "cellMetadata": {},
     "inputWidgets": {},
     "nuid": "05994190-7f71-4938-a22c-e05446f62bba",
     "showTitle": false,
     "tableResultSettingsMap": {},
     "title": ""
    }
   },
   "outputs": [],
   "source": [
    "--​4.2 How much sales ($ Volume) each brand (BRAND_NM) achieved per month?​"
   ]
  },
  {
   "cell_type": "code",
   "execution_count": 0,
   "metadata": {
    "application/vnd.databricks.v1+cell": {
     "cellMetadata": {
      "byteLimit": 2048000,
      "rowLimit": 10000
     },
     "inputWidgets": {},
     "nuid": "271e6fe0-9ef7-46b0-9b8f-5b4f9c41bca0",
     "showTitle": false,
     "tableResultSettingsMap": {},
     "title": ""
    }
   },
   "outputs": [],
   "source": [
    "SELECT \n",
    "    b.BRAND_NM        AS Marca,\n",
    "    t.year,\n",
    "    t.month,\n",
    "    SUM(f.Volume) AS Total_Vendas\n",
    "FROM refined.fact_order_item f\n",
    "JOIN refined.dim_product_catalog b  ON f.skproduct_catalog  = b.skproduct_catalog\n",
    "JOIN refined.dim_calendar t  ON f.skcalendar  = t.skcalendar\n",
    "GROUP BY ALL\n",
    "ORDER BY b.BRAND_NM, t.year, t.month;"
   ]
  },
  {
   "cell_type": "code",
   "execution_count": 0,
   "metadata": {
    "application/vnd.databricks.v1+cell": {
     "cellMetadata": {},
     "inputWidgets": {},
     "nuid": "a1d2a260-9587-4ba7-b75b-188b7760dae0",
     "showTitle": false,
     "tableResultSettingsMap": {},
     "title": ""
    }
   },
   "outputs": [],
   "source": [
    "--4.3 Which are the lowest brand (BRAND_NM) in sales ($ Volume) for each region (Btlr_Org_LVL_C_Desc)?​"
   ]
  },
  {
   "cell_type": "code",
   "execution_count": 0,
   "metadata": {
    "application/vnd.databricks.v1+cell": {
     "cellMetadata": {
      "byteLimit": 2048000,
      "rowLimit": 10000
     },
     "inputWidgets": {},
     "nuid": "06821bf4-17a1-414c-9936-76c9ea648976",
     "showTitle": false,
     "tableResultSettingsMap": {},
     "title": ""
    }
   },
   "outputs": [],
   "source": [
    "SELECT * \n",
    "FROM (\n",
    "  SELECT \n",
    "      r.Btlr_Org_LVL_C_Desc AS Regiao,\n",
    "      b.BRAND_NM            AS Marca,\n",
    "      SUM(f.volume)   AS Total_Vendas\n",
    "  FROM refined.fact_order_item f\n",
    "  JOIN refined.dim_product_catalog b    ON f.skproduct_catalog    = b.skproduct_catalog\n",
    "  JOIN refined.dim_region  r ON f.skregion = r.skregion\n",
    "  GROUP BY r.Btlr_Org_LVL_C_Desc, b.BRAND_NM\n",
    ")\n",
    "QUALIFY ROW_NUMBER() OVER (PARTITION BY Regiao ORDER BY Total_Vendas ASC) = 1;"
   ]
  }
 ],
 "metadata": {
  "application/vnd.databricks.v1+notebook": {
   "computePreferences": null,
   "dashboards": [],
   "environmentMetadata": {
    "base_environment": "",
    "environment_version": "4"
   },
   "inputWidgetPreferences": null,
   "language": "sql",
   "notebookMetadata": {},
   "notebookName": "answers",
   "widgets": {}
  },
  "language_info": {
   "name": "sql"
  }
 },
 "nbformat": 4,
 "nbformat_minor": 0
}
