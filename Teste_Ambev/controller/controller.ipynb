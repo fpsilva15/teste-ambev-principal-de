{
 "cells": [
  {
   "cell_type": "code",
   "execution_count": 0,
   "metadata": {
    "application/vnd.databricks.v1+cell": {
     "cellMetadata": {
      "byteLimit": 2048000,
      "rowLimit": 10000
     },
     "inputWidgets": {},
     "nuid": "e9d63204-eef6-43aa-b49f-efbb4f1c0b3d",
     "showTitle": false,
     "tableResultSettingsMap": {},
     "title": ""
    }
   },
   "outputs": [],
   "source": [
    "use catalog lakehouse"
   ]
  },
  {
   "cell_type": "code",
   "execution_count": 0,
   "metadata": {
    "application/vnd.databricks.v1+cell": {
     "cellMetadata": {
      "byteLimit": 2048000,
      "rowLimit": 10000
     },
     "inputWidgets": {},
     "nuid": "2f429bca-7c8b-4cbf-b93d-dee7ade267df",
     "showTitle": true,
     "tableResultSettingsMap": {},
     "title": "FACT_SALES"
    }
   },
   "outputs": [],
   "source": [
    "CREATE OR REPLACE TABLE refined.fact_order_item (\n",
    "  skcalendar BIGINT NOT NULL,\n",
    "  order_item_id STRING NOT NULL,\n",
    "  skproduct_catalog BIGINT NOT NULL,\n",
    "  skregion BIGINT NOT NULL,\n",
    "  sktrade_channel BIGINT NOT NULL,\n",
    "  volume DECIMAL(18,2) NOT NULL,\n",
    "  insertdate TIMESTAMP NOT NULL\n",
    ")\n",
    "USING DELTA;"
   ]
  },
  {
   "cell_type": "code",
   "execution_count": 0,
   "metadata": {
    "application/vnd.databricks.v1+cell": {
     "cellMetadata": {
      "byteLimit": 2048000,
      "rowLimit": 10000
     },
     "inputWidgets": {},
     "nuid": "94102633-5ef0-4a46-87d1-297d2a377a30",
     "showTitle": true,
     "tableResultSettingsMap": {},
     "title": "TRADE_CHANNEL"
    }
   },
   "outputs": [],
   "source": [
    "CREATE OR REPLACE TABLE refined.dim_trade_channel (\n",
    "  sktrade_channel BIGINT GENERATED ALWAYS AS IDENTITY (START WITH 1 INCREMENT BY 1),\n",
    "  trade_channel_id STRING NOT NULL,\n",
    "  trade_chnl_desc STRING,\n",
    "  trade_group_desc STRING,\n",
    "  trade_type_desc STRING,\n",
    "  start_date TIMESTAMP,\n",
    "  end_date TIMESTAMP,\n",
    "  current BOOLEAN,\n",
    "  insertdate TIMESTAMP\n",
    ")\n",
    "USING DELTA;"
   ]
  },
  {
   "cell_type": "code",
   "execution_count": 0,
   "metadata": {
    "application/vnd.databricks.v1+cell": {
     "cellMetadata": {
      "byteLimit": 2048000,
      "rowLimit": 10000
     },
     "inputWidgets": {},
     "nuid": "bbbcc3bb-0439-4d07-a0fe-d781316018a6",
     "showTitle": false,
     "tableResultSettingsMap": {},
     "title": ""
    }
   },
   "outputs": [],
   "source": [
    "CREATE OR REPLACE TABLE refined.dim_region (\n",
    "  skregion BIGINT GENERATED ALWAYS AS IDENTITY (START WITH 1 INCREMENT BY 1),\n",
    "  region_id STRING NOT NULL, \n",
    "  Btlr_Org_LVL_C_Desc STRING,\n",
    "  start_date TIMESTAMP,\n",
    "  end_date TIMESTAMP,\n",
    "  current BOOLEAN,\n",
    "  insertdate TIMESTAMP\n",
    ")\n",
    "USING DELTA;"
   ]
  },
  {
   "cell_type": "code",
   "execution_count": 0,
   "metadata": {
    "application/vnd.databricks.v1+cell": {
     "cellMetadata": {
      "byteLimit": 2048000,
      "rowLimit": 10000
     },
     "inputWidgets": {},
     "nuid": "221f0f3d-e9d1-4566-890c-1fa21454a9e3",
     "showTitle": false,
     "tableResultSettingsMap": {},
     "title": ""
    }
   },
   "outputs": [],
   "source": [
    "CREATE OR REPLACE TABLE refined.dim_product_catalog (\n",
    "  skproduct_catalog BIGINT GENERATED ALWAYS AS IDENTITY (START WITH 1 INCREMENT BY 1),\n",
    "  product_catalog_id STRING NOT NULL,\n",
    "  ce_brand_flvr STRING,\n",
    "  brand_nm STRING,\n",
    "  pkg_cat STRING,\n",
    "  pkg_cat_desc STRING,\n",
    "  tsr_pckg_nm STRING,\n",
    "  start_date TIMESTAMP,\n",
    "  end_date TIMESTAMP,\n",
    "  current BOOLEAN,\n",
    "  insertdate TIMESTAMP\n",
    ")\n",
    "USING DELTA;"
   ]
  },
  {
   "cell_type": "code",
   "execution_count": 0,
   "metadata": {
    "application/vnd.databricks.v1+cell": {
     "cellMetadata": {
      "byteLimit": 2048000,
      "rowLimit": 10000
     },
     "inputWidgets": {},
     "nuid": "82990ca9-0363-426a-a7f9-0ce3e929c12b",
     "showTitle": false,
     "tableResultSettingsMap": {},
     "title": ""
    }
   },
   "outputs": [],
   "source": [
    "CREATE OR REPLACE TABLE refined.dim_calendar (\n",
    "  skcalendar BIGINT GENERATED ALWAYS AS IDENTITY (START WITH 1 INCREMENT BY 1),\n",
    "  date DATE NOT NULL,\n",
    "  day INT,\n",
    "  month INT,\n",
    "  year INT,\n",
    "  insertdate TIMESTAMP\n",
    ")\n",
    "USING DELTA;"
   ]
  },
  {
   "cell_type": "code",
   "execution_count": 0,
   "metadata": {
    "application/vnd.databricks.v1+cell": {
     "cellMetadata": {
      "byteLimit": 2048000,
      "rowLimit": 10000
     },
     "inputWidgets": {},
     "nuid": "5a16ce48-4f28-40f0-a635-b1d079f4dee0",
     "showTitle": false,
     "tableResultSettingsMap": {},
     "title": ""
    }
   },
   "outputs": [],
   "source": [
    "INSERT INTO refined.dim_calendar (date, day, month, year, insertdate)\n",
    "SELECT DISTINCT\n",
    " COALESCE(TO_DATE(DATE, 'M/d/yyyy') , '1990-01-01') as date,\n",
    " LPAD(DAY(TO_DATE(DATE, 'M/d/yyyy')), 2, 0) DAY,\n",
    " LPAD(MONTH(TO_DATE(DATE, 'M/d/yyyy')), 2, 0) MONTH,\n",
    " LPAD(YEAR(TO_DATE(DATE, 'M/d/yyyy')), 4, 0) YEAR,\n",
    " date_add(hour, -3, current_timestamp) insertdate\n",
    "FROM lakehouse.raw.ambev_beverage_sales"
   ]
  }
 ],
 "metadata": {
  "application/vnd.databricks.v1+notebook": {
   "computePreferences": null,
   "dashboards": [],
   "environmentMetadata": {
    "base_environment": "",
    "environment_version": "4"
   },
   "inputWidgetPreferences": null,
   "language": "sql",
   "notebookMetadata": {},
   "notebookName": "controller",
   "widgets": {}
  },
  "language_info": {
   "name": "sql"
  }
 },
 "nbformat": 4,
 "nbformat_minor": 0
}
